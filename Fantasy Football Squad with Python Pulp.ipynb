{
 "cells": [
  {
   "cell_type": "code",
   "execution_count": 894,
   "metadata": {},
   "outputs": [],
   "source": [
    "import pandas as pd\n",
    "import numpy as np\n",
    "from pulp import *\n",
    "import json\n",
    "import requests\n",
    "import time"
   ]
  },
  {
   "cell_type": "code",
   "execution_count": 895,
   "metadata": {},
   "outputs": [],
   "source": [
    "url = 'https://fantasy.premierleague.com/drf/bootstrap-static'\n",
    "r = ''\n",
    "while r == '':\n",
    "    try:\n",
    "        r = requests.get(url)\n",
    "    except:\n",
    "        time.sleep(5)\n",
    "        continue\n",
    "r = requests.get(url)\n",
    "data = json.dumps((r.json()[\"elements\"]))\n",
    "df = pd.read_json(data, orient = 'records')"
   ]
  },
  {
   "cell_type": "code",
   "execution_count": 896,
   "metadata": {
    "collapsed": true
   },
   "outputs": [],
   "source": [
    "df = df[(df['chance_of_playing_next_round'] == 100.0)|np.isnan(df['chance_of_playing_next_round'])].reset_index(drop=True)"
   ]
  },
  {
   "cell_type": "code",
   "execution_count": 897,
   "metadata": {
    "collapsed": true
   },
   "outputs": [],
   "source": [
    "df = df[['id','element_type', 'now_cost', 'first_name', 'second_name','total_points', 'form']]"
   ]
  },
  {
   "cell_type": "code",
   "execution_count": 898,
   "metadata": {
    "collapsed": true
   },
   "outputs": [],
   "source": [
    "df.element_type.replace({1: 'gkp', 2: 'def', 3: 'mid', 4:'fwd'}, inplace = True)\n",
    "\n"
   ]
  },
  {
   "cell_type": "code",
   "execution_count": 899,
   "metadata": {},
   "outputs": [],
   "source": [
    "df = pd.get_dummies(df, columns = ['element_type'])\n"
   ]
  },
  {
   "cell_type": "code",
   "execution_count": 900,
   "metadata": {
    "collapsed": true
   },
   "outputs": [],
   "source": [
    "df = df[df.id!=114] #rule out Diego Costa"
   ]
  },
  {
   "cell_type": "code",
   "execution_count": 901,
   "metadata": {
    "collapsed": true
   },
   "outputs": [],
   "source": [
    "players = df.index.tolist()"
   ]
  },
  {
   "cell_type": "code",
   "execution_count": 902,
   "metadata": {
    "collapsed": true
   },
   "outputs": [],
   "source": [
    "prob = LpProblem(\"fantasy football create squad\",LpMaximize)"
   ]
  },
  {
   "cell_type": "code",
   "execution_count": 903,
   "metadata": {
    "collapsed": true
   },
   "outputs": [],
   "source": [
    "players_vars = LpVariable.dicts(\"plyr\", players,0,1,LpInteger)"
   ]
  },
  {
   "cell_type": "code",
   "execution_count": 904,
   "metadata": {},
   "outputs": [],
   "source": [
    "prob += lpSum([df.total_points[i]*players_vars[i] for i in players]), \"total points\""
   ]
  },
  {
   "cell_type": "code",
   "execution_count": 905,
   "metadata": {},
   "outputs": [],
   "source": [
    "prob += lpSum([df.now_cost[i]*players_vars[i] for i in players]) <= 410,\"cost constrain\"\n",
    "prob += lpSum([df.element_type_gkp[i]*players_vars[i] for i in players]) == 1, \"1 goalkeepers\"\n",
    "prob += lpSum([df.element_type_def[i]*players_vars[i] for i in players]) == 1, \"1 defenders\"\n",
    "prob += lpSum([df.element_type_mid[i]*players_vars[i] for i in players]) == 1, \"1 midfielders\"\n",
    "prob += lpSum([df.element_type_fwd[i]*players_vars[i] for i in players]) == 2, \"1 forwarders\"              "
   ]
  },
  {
   "cell_type": "code",
   "execution_count": 906,
   "metadata": {},
   "outputs": [
    {
     "data": {
      "text/plain": [
       "1"
      ]
     },
     "execution_count": 906,
     "metadata": {},
     "output_type": "execute_result"
    }
   ],
   "source": [
    "prob.writeLP(\"FantasyFootball.lp\")\n",
    "prob.solve()\n"
   ]
  },
  {
   "cell_type": "code",
   "execution_count": 907,
   "metadata": {
    "scrolled": true
   },
   "outputs": [
    {
     "name": "stdout",
     "output_type": "stream",
     "text": [
      "('Status: ', 'Optimal')\n",
      "953.0\n"
     ]
    }
   ],
   "source": [
    "print(\"Status: \", LpStatus[prob.status])\n",
    "print value(prob.objective)"
   ]
  },
  {
   "cell_type": "code",
   "execution_count": 908,
   "metadata": {},
   "outputs": [],
   "source": [
    "values = []\n",
    "variables = {x.name: x.varValue for x in prob.variables()}\n",
    "for i in players_vars:\n",
    "    key = players_vars[i]\n",
    "    values.append(variables[str(key)])\n",
    "df['chosen'] = pd.Series(values, index = df.index)"
   ]
  },
  {
   "cell_type": "code",
   "execution_count": 909,
   "metadata": {},
   "outputs": [
    {
     "data": {
      "text/html": [
       "<div>\n",
       "<style>\n",
       "    .dataframe thead tr:only-child th {\n",
       "        text-align: right;\n",
       "    }\n",
       "\n",
       "    .dataframe thead th {\n",
       "        text-align: left;\n",
       "    }\n",
       "\n",
       "    .dataframe tbody tr th {\n",
       "        vertical-align: top;\n",
       "    }\n",
       "</style>\n",
       "<table border=\"1\" class=\"dataframe\">\n",
       "  <thead>\n",
       "    <tr style=\"text-align: right;\">\n",
       "      <th></th>\n",
       "      <th>id</th>\n",
       "      <th>now_cost</th>\n",
       "      <th>first_name</th>\n",
       "      <th>second_name</th>\n",
       "      <th>total_points</th>\n",
       "      <th>form</th>\n",
       "      <th>element_type_def</th>\n",
       "      <th>element_type_fwd</th>\n",
       "      <th>element_type_gkp</th>\n",
       "      <th>element_type_mid</th>\n",
       "      <th>chosen</th>\n",
       "    </tr>\n",
       "  </thead>\n",
       "  <tbody>\n",
       "    <tr>\n",
       "      <th>313</th>\n",
       "      <td>388</td>\n",
       "      <td>95</td>\n",
       "      <td>Bamidele</td>\n",
       "      <td>Alli</td>\n",
       "      <td>225</td>\n",
       "      <td>0</td>\n",
       "      <td>0</td>\n",
       "      <td>0</td>\n",
       "      <td>0</td>\n",
       "      <td>1</td>\n",
       "      <td>1.0</td>\n",
       "    </tr>\n",
       "    <tr>\n",
       "      <th>228</th>\n",
       "      <td>285</td>\n",
       "      <td>115</td>\n",
       "      <td>Romelu</td>\n",
       "      <td>Lukaku</td>\n",
       "      <td>221</td>\n",
       "      <td>0</td>\n",
       "      <td>0</td>\n",
       "      <td>1</td>\n",
       "      <td>0</td>\n",
       "      <td>0</td>\n",
       "      <td>1.0</td>\n",
       "    </tr>\n",
       "    <tr>\n",
       "      <th>189</th>\n",
       "      <td>235</td>\n",
       "      <td>85</td>\n",
       "      <td>Roberto</td>\n",
       "      <td>Firmino</td>\n",
       "      <td>180</td>\n",
       "      <td>0</td>\n",
       "      <td>0</td>\n",
       "      <td>1</td>\n",
       "      <td>0</td>\n",
       "      <td>0</td>\n",
       "      <td>1.0</td>\n",
       "    </tr>\n",
       "    <tr>\n",
       "      <th>78</th>\n",
       "      <td>98</td>\n",
       "      <td>65</td>\n",
       "      <td>Gary</td>\n",
       "      <td>Cahill</td>\n",
       "      <td>178</td>\n",
       "      <td>0</td>\n",
       "      <td>1</td>\n",
       "      <td>0</td>\n",
       "      <td>0</td>\n",
       "      <td>0</td>\n",
       "      <td>1.0</td>\n",
       "    </tr>\n",
       "    <tr>\n",
       "      <th>56</th>\n",
       "      <td>74</td>\n",
       "      <td>50</td>\n",
       "      <td>Tom</td>\n",
       "      <td>Heaton</td>\n",
       "      <td>149</td>\n",
       "      <td>0</td>\n",
       "      <td>0</td>\n",
       "      <td>0</td>\n",
       "      <td>1</td>\n",
       "      <td>0</td>\n",
       "      <td>1.0</td>\n",
       "    </tr>\n",
       "  </tbody>\n",
       "</table>\n",
       "</div>"
      ],
      "text/plain": [
       "      id  now_cost first_name second_name  total_points  form  \\\n",
       "313  388        95   Bamidele        Alli           225     0   \n",
       "228  285       115     Romelu      Lukaku           221     0   \n",
       "189  235        85    Roberto     Firmino           180     0   \n",
       "78    98        65       Gary      Cahill           178     0   \n",
       "56    74        50        Tom      Heaton           149     0   \n",
       "\n",
       "     element_type_def  element_type_fwd  element_type_gkp  element_type_mid  \\\n",
       "313                 0                 0                 0                 1   \n",
       "228                 0                 1                 0                 0   \n",
       "189                 0                 1                 0                 0   \n",
       "78                  1                 0                 0                 0   \n",
       "56                  0                 0                 1                 0   \n",
       "\n",
       "     chosen  \n",
       "313     1.0  \n",
       "228     1.0  \n",
       "189     1.0  \n",
       "78      1.0  \n",
       "56      1.0  "
      ]
     },
     "execution_count": 909,
     "metadata": {},
     "output_type": "execute_result"
    }
   ],
   "source": [
    "df_chosen = df[df.chosen > 0].sort_values('total_points', ascending = False)\n",
    "df_chosen"
   ]
  },
  {
   "cell_type": "code",
   "execution_count": 910,
   "metadata": {},
   "outputs": [
    {
     "data": {
      "text/plain": [
       "410L"
      ]
     },
     "execution_count": 910,
     "metadata": {},
     "output_type": "execute_result"
    }
   ],
   "source": [
    "df[df.chosen > 0].now_cost.sum()"
   ]
  },
  {
   "cell_type": "code",
   "execution_count": null,
   "metadata": {},
   "outputs": [],
   "source": []
  },
  {
   "cell_type": "code",
   "execution_count": 911,
   "metadata": {},
   "outputs": [],
   "source": [
    "df = df[~df.index.isin(df_chosen.index)]"
   ]
  },
  {
   "cell_type": "code",
   "execution_count": 912,
   "metadata": {},
   "outputs": [
    {
     "name": "stdout",
     "output_type": "stream",
     "text": [
      "('Status: ', 'Optimal')\n",
      "963.0\n",
      "395\n"
     ]
    },
    {
     "data": {
      "text/html": [
       "<div>\n",
       "<style>\n",
       "    .dataframe thead tr:only-child th {\n",
       "        text-align: right;\n",
       "    }\n",
       "\n",
       "    .dataframe thead th {\n",
       "        text-align: left;\n",
       "    }\n",
       "\n",
       "    .dataframe tbody tr th {\n",
       "        vertical-align: top;\n",
       "    }\n",
       "</style>\n",
       "<table border=\"1\" class=\"dataframe\">\n",
       "  <thead>\n",
       "    <tr style=\"text-align: right;\">\n",
       "      <th></th>\n",
       "      <th>id</th>\n",
       "      <th>now_cost</th>\n",
       "      <th>first_name</th>\n",
       "      <th>second_name</th>\n",
       "      <th>total_points</th>\n",
       "      <th>form</th>\n",
       "      <th>element_type_def</th>\n",
       "      <th>element_type_fwd</th>\n",
       "      <th>element_type_gkp</th>\n",
       "      <th>element_type_mid</th>\n",
       "      <th>chosen</th>\n",
       "      <th>chosen2</th>\n",
       "    </tr>\n",
       "  </thead>\n",
       "  <tbody>\n",
       "    <tr>\n",
       "      <th>312</th>\n",
       "      <td>387</td>\n",
       "      <td>95</td>\n",
       "      <td>Christian</td>\n",
       "      <td>Eriksen</td>\n",
       "      <td>218</td>\n",
       "      <td>0</td>\n",
       "      <td>0</td>\n",
       "      <td>0</td>\n",
       "      <td>0</td>\n",
       "      <td>1</td>\n",
       "      <td>0.0</td>\n",
       "      <td>1.0</td>\n",
       "    </tr>\n",
       "    <tr>\n",
       "      <th>80</th>\n",
       "      <td>100</td>\n",
       "      <td>70</td>\n",
       "      <td>Marcos</td>\n",
       "      <td>Alonso</td>\n",
       "      <td>177</td>\n",
       "      <td>0</td>\n",
       "      <td>1</td>\n",
       "      <td>0</td>\n",
       "      <td>0</td>\n",
       "      <td>0</td>\n",
       "      <td>0.0</td>\n",
       "      <td>1.0</td>\n",
       "    </tr>\n",
       "    <tr>\n",
       "      <th>77</th>\n",
       "      <td>97</td>\n",
       "      <td>65</td>\n",
       "      <td>César</td>\n",
       "      <td>Azpilicueta</td>\n",
       "      <td>170</td>\n",
       "      <td>0</td>\n",
       "      <td>1</td>\n",
       "      <td>0</td>\n",
       "      <td>0</td>\n",
       "      <td>0</td>\n",
       "      <td>0.0</td>\n",
       "      <td>1.0</td>\n",
       "    </tr>\n",
       "    <tr>\n",
       "      <th>22</th>\n",
       "      <td>34</td>\n",
       "      <td>50</td>\n",
       "      <td>Charlie</td>\n",
       "      <td>Daniels</td>\n",
       "      <td>134</td>\n",
       "      <td>0</td>\n",
       "      <td>1</td>\n",
       "      <td>0</td>\n",
       "      <td>0</td>\n",
       "      <td>0</td>\n",
       "      <td>0.0</td>\n",
       "      <td>1.0</td>\n",
       "    </tr>\n",
       "    <tr>\n",
       "      <th>356</th>\n",
       "      <td>448</td>\n",
       "      <td>60</td>\n",
       "      <td>Robert</td>\n",
       "      <td>Snodgrass</td>\n",
       "      <td>133</td>\n",
       "      <td>0</td>\n",
       "      <td>0</td>\n",
       "      <td>0</td>\n",
       "      <td>0</td>\n",
       "      <td>1</td>\n",
       "      <td>0.0</td>\n",
       "      <td>1.0</td>\n",
       "    </tr>\n",
       "    <tr>\n",
       "      <th>330</th>\n",
       "      <td>409</td>\n",
       "      <td>55</td>\n",
       "      <td>Etienne</td>\n",
       "      <td>Capoue</td>\n",
       "      <td>131</td>\n",
       "      <td>0</td>\n",
       "      <td>0</td>\n",
       "      <td>0</td>\n",
       "      <td>0</td>\n",
       "      <td>1</td>\n",
       "      <td>0.0</td>\n",
       "      <td>1.0</td>\n",
       "    </tr>\n",
       "  </tbody>\n",
       "</table>\n",
       "</div>"
      ],
      "text/plain": [
       "      id  now_cost first_name  second_name  total_points  form  \\\n",
       "312  387        95  Christian      Eriksen           218     0   \n",
       "80   100        70     Marcos       Alonso           177     0   \n",
       "77    97        65      César  Azpilicueta           170     0   \n",
       "22    34        50    Charlie      Daniels           134     0   \n",
       "356  448        60     Robert    Snodgrass           133     0   \n",
       "330  409        55    Etienne       Capoue           131     0   \n",
       "\n",
       "     element_type_def  element_type_fwd  element_type_gkp  element_type_mid  \\\n",
       "312                 0                 0                 0                 1   \n",
       "80                  1                 0                 0                 0   \n",
       "77                  1                 0                 0                 0   \n",
       "22                  1                 0                 0                 0   \n",
       "356                 0                 0                 0                 1   \n",
       "330                 0                 0                 0                 1   \n",
       "\n",
       "     chosen  chosen2  \n",
       "312     0.0      1.0  \n",
       "80      0.0      1.0  \n",
       "77      0.0      1.0  \n",
       "22      0.0      1.0  \n",
       "356     0.0      1.0  \n",
       "330     0.0      1.0  "
      ]
     },
     "execution_count": 912,
     "metadata": {},
     "output_type": "execute_result"
    }
   ],
   "source": [
    "players = df.index.tolist()\n",
    "\n",
    "prob2 = LpProblem(\"fantasy football create squad2\",LpMaximize)\n",
    "players_vars = LpVariable.dicts(\"plyr\", players,0,1,LpInteger)\n",
    "\n",
    "prob2 += lpSum([df.total_points[i]*players_vars[i] for i in players]), \"total points\"\n",
    "\n",
    "prob2 += lpSum([df.now_cost[i]*players_vars[i] for i in players]) <= 395,\"cost constrain\"\n",
    "\n",
    "prob2 += lpSum([df.element_type_gkp[i]*players_vars[i] for i in players]) == 0, \"0 goalkeepers\"\n",
    "prob2 += lpSum([df.element_type_def[i]*players_vars[i] for i in players]) == 3, \"3 defenders\"\n",
    "prob2 += lpSum([df.element_type_mid[i]*players_vars[i] for i in players]) == 3, \"3 midfielders\"\n",
    "prob2 += lpSum([df.element_type_fwd[i]*players_vars[i] for i in players]) == 0, \"1 forwarders\"   \n",
    "\n",
    "prob2.writeLP(\"FantasyFootball2.lp\")\n",
    "prob2.solve()\n",
    "\n",
    "print(\"Status: \", LpStatus[prob2.status])\n",
    "print value(prob2.objective)\n",
    "\n",
    "values = []\n",
    "variables = {x.name: x.varValue for x in prob2.variables()}\n",
    "for i in players_vars:\n",
    "    key = players_vars[i]\n",
    "    values.append(variables[str(key)])\n",
    "df['chosen2'] = pd.Series(values, index = df.index)\n",
    "\n",
    "df_chosen2 = df[df.chosen2 > 0].sort_values('total_points', ascending = False)\n",
    "print df[df['chosen2'] > 0].now_cost.sum()\n",
    "df_chosen2"
   ]
  },
  {
   "cell_type": "code",
   "execution_count": null,
   "metadata": {},
   "outputs": [],
   "source": []
  },
  {
   "cell_type": "code",
   "execution_count": 913,
   "metadata": {
    "scrolled": true
   },
   "outputs": [],
   "source": [
    "df = df[~df.index.isin(df_chosen2.index)]"
   ]
  },
  {
   "cell_type": "code",
   "execution_count": 914,
   "metadata": {},
   "outputs": [
    {
     "name": "stdout",
     "output_type": "stream",
     "text": [
      "('Status: ', 'Optimal')\n",
      "428.0\n",
      "195\n"
     ]
    },
    {
     "data": {
      "text/html": [
       "<div>\n",
       "<style>\n",
       "    .dataframe thead tr:only-child th {\n",
       "        text-align: right;\n",
       "    }\n",
       "\n",
       "    .dataframe thead th {\n",
       "        text-align: left;\n",
       "    }\n",
       "\n",
       "    .dataframe tbody tr th {\n",
       "        vertical-align: top;\n",
       "    }\n",
       "</style>\n",
       "<table border=\"1\" class=\"dataframe\">\n",
       "  <thead>\n",
       "    <tr style=\"text-align: right;\">\n",
       "      <th></th>\n",
       "      <th>id</th>\n",
       "      <th>now_cost</th>\n",
       "      <th>first_name</th>\n",
       "      <th>second_name</th>\n",
       "      <th>total_points</th>\n",
       "      <th>form</th>\n",
       "      <th>element_type_def</th>\n",
       "      <th>element_type_fwd</th>\n",
       "      <th>element_type_gkp</th>\n",
       "      <th>element_type_mid</th>\n",
       "      <th>chosen</th>\n",
       "      <th>chosen2</th>\n",
       "      <th>chosen3</th>\n",
       "    </tr>\n",
       "  </thead>\n",
       "  <tbody>\n",
       "    <tr>\n",
       "      <th>71</th>\n",
       "      <td>91</td>\n",
       "      <td>60</td>\n",
       "      <td>Sam</td>\n",
       "      <td>Vokes</td>\n",
       "      <td>121</td>\n",
       "      <td>0</td>\n",
       "      <td>0</td>\n",
       "      <td>1</td>\n",
       "      <td>0</td>\n",
       "      <td>0</td>\n",
       "      <td>0.0</td>\n",
       "      <td>0.0</td>\n",
       "      <td>1.0</td>\n",
       "    </tr>\n",
       "    <tr>\n",
       "      <th>18</th>\n",
       "      <td>30</td>\n",
       "      <td>45</td>\n",
       "      <td>Artur</td>\n",
       "      <td>Boruc</td>\n",
       "      <td>120</td>\n",
       "      <td>0</td>\n",
       "      <td>0</td>\n",
       "      <td>0</td>\n",
       "      <td>1</td>\n",
       "      <td>0</td>\n",
       "      <td>0.0</td>\n",
       "      <td>0.0</td>\n",
       "      <td>1.0</td>\n",
       "    </tr>\n",
       "    <tr>\n",
       "      <th>58</th>\n",
       "      <td>77</td>\n",
       "      <td>45</td>\n",
       "      <td>Ben</td>\n",
       "      <td>Mee</td>\n",
       "      <td>94</td>\n",
       "      <td>0</td>\n",
       "      <td>1</td>\n",
       "      <td>0</td>\n",
       "      <td>0</td>\n",
       "      <td>0</td>\n",
       "      <td>0.0</td>\n",
       "      <td>0.0</td>\n",
       "      <td>1.0</td>\n",
       "    </tr>\n",
       "    <tr>\n",
       "      <th>104</th>\n",
       "      <td>127</td>\n",
       "      <td>45</td>\n",
       "      <td>James</td>\n",
       "      <td>McArthur</td>\n",
       "      <td>93</td>\n",
       "      <td>0</td>\n",
       "      <td>0</td>\n",
       "      <td>0</td>\n",
       "      <td>0</td>\n",
       "      <td>1</td>\n",
       "      <td>0.0</td>\n",
       "      <td>0.0</td>\n",
       "      <td>1.0</td>\n",
       "    </tr>\n",
       "  </tbody>\n",
       "</table>\n",
       "</div>"
      ],
      "text/plain": [
       "      id  now_cost first_name second_name  total_points  form  \\\n",
       "71    91        60        Sam       Vokes           121     0   \n",
       "18    30        45      Artur       Boruc           120     0   \n",
       "58    77        45        Ben         Mee            94     0   \n",
       "104  127        45      James    McArthur            93     0   \n",
       "\n",
       "     element_type_def  element_type_fwd  element_type_gkp  element_type_mid  \\\n",
       "71                  0                 1                 0                 0   \n",
       "18                  0                 0                 1                 0   \n",
       "58                  1                 0                 0                 0   \n",
       "104                 0                 0                 0                 1   \n",
       "\n",
       "     chosen  chosen2  chosen3  \n",
       "71      0.0      0.0      1.0  \n",
       "18      0.0      0.0      1.0  \n",
       "58      0.0      0.0      1.0  \n",
       "104     0.0      0.0      1.0  "
      ]
     },
     "execution_count": 914,
     "metadata": {},
     "output_type": "execute_result"
    }
   ],
   "source": [
    "players = df.index.tolist()\n",
    "\n",
    "prob3 = LpProblem(\"fantasy football create squad2\",LpMaximize)\n",
    "players_vars = LpVariable.dicts(\"plyr\", players,0,1,LpInteger)\n",
    "\n",
    "prob3 += lpSum([df.total_points[i]*players_vars[i] for i in players]), \"total points\"\n",
    "\n",
    "prob3 += lpSum([df.now_cost[i]*players_vars[i] for i in players]) <= 195,\"cost constrain\"\n",
    "\n",
    "prob3 += lpSum([df.element_type_gkp[i]*players_vars[i] for i in players]) == 1, \"1 goalkeepers\"\n",
    "prob3 += lpSum([df.element_type_def[i]*players_vars[i] for i in players]) == 1, \"1 defenders\"\n",
    "prob3 += lpSum([df.element_type_mid[i]*players_vars[i] for i in players]) == 1, \"1 midfielders\"\n",
    "prob3 += lpSum([df.element_type_fwd[i]*players_vars[i] for i in players]) == 1, \"1 forwarders\"   \n",
    "\n",
    "prob3.writeLP(\"FantasyFootball3.lp\")\n",
    "prob3.solve()\n",
    "\n",
    "print(\"Status: \", LpStatus[prob3.status])\n",
    "print value(prob3.objective)\n",
    "\n",
    "values = []\n",
    "variables = {x.name: x.varValue for x in prob3.variables()}\n",
    "for i in players_vars:\n",
    "    key = players_vars[i]\n",
    "    values.append(variables[str(key)])\n",
    "df['chosen3'] = pd.Series(values, index = df.index)\n",
    "\n",
    "df_chosen3 = df[df.chosen3 > 0].sort_values('total_points', ascending = False)\n",
    "print df[df['chosen3'] > 0].now_cost.sum()\n",
    "df_chosen3"
   ]
  },
  {
   "cell_type": "code",
   "execution_count": 915,
   "metadata": {},
   "outputs": [],
   "source": [
    "df_final = pd.concat([df_chosen,df_chosen2,df_chosen3])[['now_cost', 'first_name', 'second_name','total_points','element_type_def','element_type_fwd','element_type_gkp','element_type_mid']]"
   ]
  },
  {
   "cell_type": "code",
   "execution_count": 916,
   "metadata": {
    "scrolled": true
   },
   "outputs": [
    {
     "data": {
      "text/html": [
       "<div>\n",
       "<style>\n",
       "    .dataframe thead tr:only-child th {\n",
       "        text-align: right;\n",
       "    }\n",
       "\n",
       "    .dataframe thead th {\n",
       "        text-align: left;\n",
       "    }\n",
       "\n",
       "    .dataframe tbody tr th {\n",
       "        vertical-align: top;\n",
       "    }\n",
       "</style>\n",
       "<table border=\"1\" class=\"dataframe\">\n",
       "  <thead>\n",
       "    <tr style=\"text-align: right;\">\n",
       "      <th></th>\n",
       "      <th>now_cost</th>\n",
       "      <th>first_name</th>\n",
       "      <th>second_name</th>\n",
       "      <th>total_points</th>\n",
       "      <th>position</th>\n",
       "    </tr>\n",
       "  </thead>\n",
       "  <tbody>\n",
       "    <tr>\n",
       "      <th>313</th>\n",
       "      <td>95</td>\n",
       "      <td>Bamidele</td>\n",
       "      <td>Alli</td>\n",
       "      <td>225</td>\n",
       "      <td>element_type_mid</td>\n",
       "    </tr>\n",
       "    <tr>\n",
       "      <th>312</th>\n",
       "      <td>95</td>\n",
       "      <td>Christian</td>\n",
       "      <td>Eriksen</td>\n",
       "      <td>218</td>\n",
       "      <td>element_type_mid</td>\n",
       "    </tr>\n",
       "    <tr>\n",
       "      <th>356</th>\n",
       "      <td>60</td>\n",
       "      <td>Robert</td>\n",
       "      <td>Snodgrass</td>\n",
       "      <td>133</td>\n",
       "      <td>element_type_mid</td>\n",
       "    </tr>\n",
       "    <tr>\n",
       "      <th>330</th>\n",
       "      <td>55</td>\n",
       "      <td>Etienne</td>\n",
       "      <td>Capoue</td>\n",
       "      <td>131</td>\n",
       "      <td>element_type_mid</td>\n",
       "    </tr>\n",
       "    <tr>\n",
       "      <th>104</th>\n",
       "      <td>45</td>\n",
       "      <td>James</td>\n",
       "      <td>McArthur</td>\n",
       "      <td>93</td>\n",
       "      <td>element_type_mid</td>\n",
       "    </tr>\n",
       "    <tr>\n",
       "      <th>56</th>\n",
       "      <td>50</td>\n",
       "      <td>Tom</td>\n",
       "      <td>Heaton</td>\n",
       "      <td>149</td>\n",
       "      <td>element_type_gkp</td>\n",
       "    </tr>\n",
       "    <tr>\n",
       "      <th>18</th>\n",
       "      <td>45</td>\n",
       "      <td>Artur</td>\n",
       "      <td>Boruc</td>\n",
       "      <td>120</td>\n",
       "      <td>element_type_gkp</td>\n",
       "    </tr>\n",
       "    <tr>\n",
       "      <th>228</th>\n",
       "      <td>115</td>\n",
       "      <td>Romelu</td>\n",
       "      <td>Lukaku</td>\n",
       "      <td>221</td>\n",
       "      <td>element_type_fwd</td>\n",
       "    </tr>\n",
       "    <tr>\n",
       "      <th>189</th>\n",
       "      <td>85</td>\n",
       "      <td>Roberto</td>\n",
       "      <td>Firmino</td>\n",
       "      <td>180</td>\n",
       "      <td>element_type_fwd</td>\n",
       "    </tr>\n",
       "    <tr>\n",
       "      <th>71</th>\n",
       "      <td>60</td>\n",
       "      <td>Sam</td>\n",
       "      <td>Vokes</td>\n",
       "      <td>121</td>\n",
       "      <td>element_type_fwd</td>\n",
       "    </tr>\n",
       "    <tr>\n",
       "      <th>78</th>\n",
       "      <td>65</td>\n",
       "      <td>Gary</td>\n",
       "      <td>Cahill</td>\n",
       "      <td>178</td>\n",
       "      <td>element_type_def</td>\n",
       "    </tr>\n",
       "    <tr>\n",
       "      <th>80</th>\n",
       "      <td>70</td>\n",
       "      <td>Marcos</td>\n",
       "      <td>Alonso</td>\n",
       "      <td>177</td>\n",
       "      <td>element_type_def</td>\n",
       "    </tr>\n",
       "    <tr>\n",
       "      <th>77</th>\n",
       "      <td>65</td>\n",
       "      <td>César</td>\n",
       "      <td>Azpilicueta</td>\n",
       "      <td>170</td>\n",
       "      <td>element_type_def</td>\n",
       "    </tr>\n",
       "    <tr>\n",
       "      <th>22</th>\n",
       "      <td>50</td>\n",
       "      <td>Charlie</td>\n",
       "      <td>Daniels</td>\n",
       "      <td>134</td>\n",
       "      <td>element_type_def</td>\n",
       "    </tr>\n",
       "    <tr>\n",
       "      <th>58</th>\n",
       "      <td>45</td>\n",
       "      <td>Ben</td>\n",
       "      <td>Mee</td>\n",
       "      <td>94</td>\n",
       "      <td>element_type_def</td>\n",
       "    </tr>\n",
       "  </tbody>\n",
       "</table>\n",
       "</div>"
      ],
      "text/plain": [
       "     now_cost first_name  second_name  total_points          position\n",
       "313        95   Bamidele         Alli           225  element_type_mid\n",
       "312        95  Christian      Eriksen           218  element_type_mid\n",
       "356        60     Robert    Snodgrass           133  element_type_mid\n",
       "330        55    Etienne       Capoue           131  element_type_mid\n",
       "104        45      James     McArthur            93  element_type_mid\n",
       "56         50        Tom       Heaton           149  element_type_gkp\n",
       "18         45      Artur        Boruc           120  element_type_gkp\n",
       "228       115     Romelu       Lukaku           221  element_type_fwd\n",
       "189        85    Roberto      Firmino           180  element_type_fwd\n",
       "71         60        Sam        Vokes           121  element_type_fwd\n",
       "78         65       Gary       Cahill           178  element_type_def\n",
       "80         70     Marcos       Alonso           177  element_type_def\n",
       "77         65      César  Azpilicueta           170  element_type_def\n",
       "22         50    Charlie      Daniels           134  element_type_def\n",
       "58         45        Ben          Mee            94  element_type_def"
      ]
     },
     "execution_count": 916,
     "metadata": {},
     "output_type": "execute_result"
    }
   ],
   "source": [
    "x = df_final[['element_type_def','element_type_fwd','element_type_gkp','element_type_mid']]\n",
    "df_final['position'] = x.idxmax(1)\n",
    "df_final.drop(axis = 1, labels = ['element_type_def','element_type_fwd','element_type_gkp','element_type_mid']).sort_values(['position','total_points'], ascending = False)"
   ]
  },
  {
   "cell_type": "markdown",
   "metadata": {},
   "source": []
  },
  {
   "cell_type": "code",
   "execution_count": null,
   "metadata": {},
   "outputs": [],
   "source": []
  },
  {
   "cell_type": "code",
   "execution_count": null,
   "metadata": {
    "collapsed": true
   },
   "outputs": [],
   "source": []
  }
 ],
 "metadata": {
  "kernelspec": {
   "display_name": "Python 2",
   "language": "python",
   "name": "python2"
  },
  "language_info": {
   "codemirror_mode": {
    "name": "ipython",
    "version": 2
   },
   "file_extension": ".py",
   "mimetype": "text/x-python",
   "name": "python",
   "nbconvert_exporter": "python",
   "pygments_lexer": "ipython2",
   "version": "2.7.13"
  }
 },
 "nbformat": 4,
 "nbformat_minor": 2
}
